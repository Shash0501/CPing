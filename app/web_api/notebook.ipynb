{
  "nbformat": 4,
  "nbformat_minor": 0,
  "metadata": {
    "colab": {
      "name": "CPing_API.ipynb",
      "provenance": [],
      "collapsed_sections": [],
      "authorship_tag": "ABX9TyPeYp2KU6EHWP9o3l9+gxPP",
      "include_colab_link": true
    },
    "kernelspec": {
      "name": "python3",
      "display_name": "Python 3"
    },
    "language_info": {
      "name": "python"
    }
  },
  "cells": [
    {
      "cell_type": "markdown",
      "metadata": {
        "id": "view-in-github",
        "colab_type": "text"
      },
      "source": [
        "<a href=\"https://colab.research.google.com/github/kid-116/CPing/blob/main/app/web_api/notebook.ipynb\" target=\"_parent\"><img src=\"https://colab.research.google.com/assets/colab-badge.svg\" alt=\"Open In Colab\"/></a>"
      ]
    },
    {
      "cell_type": "code",
      "metadata": {
        "colab": {
          "base_uri": "https://localhost:8080/"
        },
        "id": "E3xpM7jDtr-w",
        "outputId": "d33802b5-b947-4061-fcfc-61859f4f566b"
      },
      "source": [
        "pip install scrapingant_client"
      ],
      "execution_count": 2,
      "outputs": [
        {
          "output_type": "stream",
          "name": "stdout",
          "text": [
            "Collecting scrapingant_client\n",
            "  Downloading scrapingant_client-0.3.6-py3-none-any.whl (7.5 kB)\n",
            "Requirement already satisfied: requests<3,>=2 in /usr/local/lib/python3.7/dist-packages (from scrapingant_client) (2.23.0)\n",
            "Requirement already satisfied: urllib3!=1.25.0,!=1.25.1,<1.26,>=1.21.1 in /usr/local/lib/python3.7/dist-packages (from requests<3,>=2->scrapingant_client) (1.24.3)\n",
            "Requirement already satisfied: certifi>=2017.4.17 in /usr/local/lib/python3.7/dist-packages (from requests<3,>=2->scrapingant_client) (2021.5.30)\n",
            "Requirement already satisfied: idna<3,>=2.5 in /usr/local/lib/python3.7/dist-packages (from requests<3,>=2->scrapingant_client) (2.10)\n",
            "Requirement already satisfied: chardet<4,>=3.0.2 in /usr/local/lib/python3.7/dist-packages (from requests<3,>=2->scrapingant_client) (3.0.4)\n",
            "Installing collected packages: scrapingant-client\n",
            "Successfully installed scrapingant-client-0.3.6\n"
          ]
        }
      ]
    },
    {
      "cell_type": "code",
      "metadata": {
        "colab": {
          "base_uri": "https://localhost:8080/"
        },
        "id": "ol8kSpiuuyVb",
        "outputId": "d4e11a05-caa0-4bce-f8a5-dec235e82ec2"
      },
      "source": [
        "pip install flask-ngrok"
      ],
      "execution_count": 8,
      "outputs": [
        {
          "output_type": "stream",
          "name": "stdout",
          "text": [
            "Collecting flask-ngrok\n",
            "  Downloading flask_ngrok-0.0.25-py3-none-any.whl (3.1 kB)\n",
            "Requirement already satisfied: requests in /usr/local/lib/python3.7/dist-packages (from flask-ngrok) (2.23.0)\n",
            "Requirement already satisfied: Flask>=0.8 in /usr/local/lib/python3.7/dist-packages (from flask-ngrok) (1.1.4)\n",
            "Requirement already satisfied: click<8.0,>=5.1 in /usr/local/lib/python3.7/dist-packages (from Flask>=0.8->flask-ngrok) (7.1.2)\n",
            "Requirement already satisfied: Jinja2<3.0,>=2.10.1 in /usr/local/lib/python3.7/dist-packages (from Flask>=0.8->flask-ngrok) (2.11.3)\n",
            "Requirement already satisfied: itsdangerous<2.0,>=0.24 in /usr/local/lib/python3.7/dist-packages (from Flask>=0.8->flask-ngrok) (1.1.0)\n",
            "Requirement already satisfied: Werkzeug<2.0,>=0.15 in /usr/local/lib/python3.7/dist-packages (from Flask>=0.8->flask-ngrok) (1.0.1)\n",
            "Requirement already satisfied: MarkupSafe>=0.23 in /usr/local/lib/python3.7/dist-packages (from Jinja2<3.0,>=2.10.1->Flask>=0.8->flask-ngrok) (2.0.1)\n",
            "Requirement already satisfied: chardet<4,>=3.0.2 in /usr/local/lib/python3.7/dist-packages (from requests->flask-ngrok) (3.0.4)\n",
            "Requirement already satisfied: urllib3!=1.25.0,!=1.25.1,<1.26,>=1.21.1 in /usr/local/lib/python3.7/dist-packages (from requests->flask-ngrok) (1.24.3)\n",
            "Requirement already satisfied: certifi>=2017.4.17 in /usr/local/lib/python3.7/dist-packages (from requests->flask-ngrok) (2021.5.30)\n",
            "Requirement already satisfied: idna<3,>=2.5 in /usr/local/lib/python3.7/dist-packages (from requests->flask-ngrok) (2.10)\n",
            "Installing collected packages: flask-ngrok\n",
            "Successfully installed flask-ngrok-0.0.25\n"
          ]
        }
      ]
    },
    {
      "cell_type": "code",
      "metadata": {
        "id": "p9o_ytwstpvR"
      },
      "source": [
        "from bs4 import BeautifulSoup\n",
        "from scrapingant_client import ScrapingAntClient\n",
        "from datetime import datetime, timezone"
      ],
      "execution_count": 3,
      "outputs": []
    },
    {
      "cell_type": "markdown",
      "metadata": {
        "id": "89UCBwohtG3W"
      },
      "source": [
        "Atcoder"
      ]
    },
    {
      "cell_type": "code",
      "metadata": {
        "id": "rthXitjCs_Qg"
      },
      "source": [
        "def datetime_parser(dt):\n",
        "    year = int(dt[0:4])\n",
        "    date = int(dt[8:10])\n",
        "    month = int(dt[5:7])\n",
        "    hr = int(dt[16:18])\n",
        "    min = int(dt[19:21])\n",
        "    dt = datetime(year, month, date, hr, min, tzinfo=timezone.utc)\n",
        "    return dt\n",
        "\n",
        "def parse_row(row):\n",
        "    tds = row.find_all('td')\n",
        "    name = tds[1].a.get_text()\n",
        "    start = datetime_parser(tds[0].get_text())\n",
        "    length = tds[2].get_text()\n",
        "    contest = {\n",
        "        'name': name,\n",
        "        'start': start,\n",
        "        'length': length\n",
        "    }\n",
        "    return contest\n",
        "\n",
        "# driver code for scraping\n",
        "def atcoder():\n",
        "    # page url\n",
        "    URL = \"https://atcoder.jp/contests/\"\n",
        "    # scrapingant client\n",
        "    client = ScrapingAntClient(token='08195006585c4385956bd98ca77a3f07')\n",
        "    # sending req\n",
        "    res = client.general_request(URL)\n",
        "    # souping\n",
        "    page = res.content\n",
        "    soup = BeautifulSoup(page, 'lxml')\n",
        "    # print(soup)\n",
        "    # scraping\n",
        "    contests = {}\n",
        "    # present contests\n",
        "    active_contests = []\n",
        "    for row in soup.select('div#contest-table-action table tbody tr'):    \n",
        "        active_contests.append(parse_row(row))\n",
        "    contests['active-contests'] = active_contests\n",
        "    # future contests\n",
        "    future_contests = []\n",
        "    for row in soup.select('div#contest-table-upcoming table tbody tr'):\n",
        "        future_contests.append(parse_row(row))\n",
        "    contests['future-contests'] = future_contests\n",
        "    # print(contests)\n",
        "    return contests"
      ],
      "execution_count": 4,
      "outputs": []
    },
    {
      "cell_type": "markdown",
      "metadata": {
        "id": "UaWh8NgBtPHx"
      },
      "source": [
        "App"
      ]
    },
    {
      "cell_type": "code",
      "metadata": {
        "colab": {
          "base_uri": "https://localhost:8080/"
        },
        "id": "ggYIruWHtP_C",
        "outputId": "b46d114c-f0cb-4f01-f83a-b4ae5d9655c4"
      },
      "source": [
        "from flask import Flask, jsonify\n",
        "from flask_ngrok import run_with_ngrok\n",
        "\n",
        "app = Flask(__name__)\n",
        "\n",
        "# @app.route('/api/codechef/contests/', methods=['GET'])\n",
        "# def get_codechef_contests():\n",
        "#     contests = scrape_codechef()\n",
        "#     return jsonify(contests)\n",
        "\n",
        "# @app.route('/api/codeforces/contests/', methods=['GET'])\n",
        "# def get_codeforces_contests():\n",
        "#     contests = scrape_codeforces()\n",
        "#     return jsonify(contests)\n",
        "\n",
        "@app.route('/', methods=['GET'])\n",
        "def landing():\n",
        "  return \"Welcome to CPing's API\"\n",
        "\n",
        "@app.route('/api/atcoder/contests/', methods=['GET'])\n",
        "def get_atcoder_contests():\n",
        "    contests = atcoder()\n",
        "    return jsonify(contests)\n",
        "\n",
        "if __name__ == '__main__':\n",
        "    run_with_ngrok(app)\n",
        "    app.run()"
      ],
      "execution_count": null,
      "outputs": [
        {
          "output_type": "stream",
          "name": "stdout",
          "text": [
            " * Serving Flask app \"__main__\" (lazy loading)\n",
            " * Environment: production\n",
            "\u001b[31m   WARNING: This is a development server. Do not use it in a production deployment.\u001b[0m\n",
            "\u001b[2m   Use a production WSGI server instead.\u001b[0m\n",
            " * Debug mode: off\n"
          ]
        },
        {
          "output_type": "stream",
          "name": "stderr",
          "text": [
            " * Running on http://127.0.0.1:5000/ (Press CTRL+C to quit)\n"
          ]
        },
        {
          "output_type": "stream",
          "name": "stdout",
          "text": [
            " * Running on http://f774-34-86-203-64.ngrok.io\n",
            " * Traffic stats available on http://127.0.0.1:4040\n"
          ]
        },
        {
          "output_type": "stream",
          "name": "stderr",
          "text": [
            "127.0.0.1 - - [06/Sep/2021 15:30:38] \"\u001b[37mGET / HTTP/1.1\u001b[0m\" 200 -\n",
            "127.0.0.1 - - [06/Sep/2021 15:30:38] \"\u001b[33mGET /favicon.ico HTTP/1.1\u001b[0m\" 404 -\n"
          ]
        }
      ]
    }
  ]
}